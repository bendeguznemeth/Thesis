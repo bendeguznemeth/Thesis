{
 "cells": [
  {
   "cell_type": "code",
   "execution_count": 1,
   "metadata": {},
   "outputs": [],
   "source": [
    "import turicreate as tc"
   ]
  },
  {
   "cell_type": "code",
   "execution_count": 2,
   "metadata": {},
   "outputs": [],
   "source": [
    "import os"
   ]
  },
  {
   "cell_type": "markdown",
   "metadata": {},
   "source": [
    "# Load data"
   ]
  },
  {
   "cell_type": "code",
   "execution_count": 3,
   "metadata": {},
   "outputs": [
    {
     "data": {
      "text/html": [
       "<pre>Unsupported image format. Supported formats are JPEG and PNG\t file: /Users/nemethbendeguz/Library/Mobile Documents/com~apple~CloudDocs/szakdoga/szakdoga_code/virtual_environment/dataset/.DS_Store</pre>"
      ],
      "text/plain": [
       "Unsupported image format. Supported formats are JPEG and PNG\t file: /Users/nemethbendeguz/Library/Mobile Documents/com~apple~CloudDocs/szakdoga/szakdoga_code/virtual_environment/dataset/.DS_Store"
      ]
     },
     "metadata": {},
     "output_type": "display_data"
    },
    {
     "data": {
      "text/html": [
       "<pre>Unsupported image format. Supported formats are JPEG and PNG\t file: /Users/nemethbendeguz/Library/Mobile Documents/com~apple~CloudDocs/szakdoga/szakdoga_code/virtual_environment/dataset/keyboard/.DS_Store</pre>"
      ],
      "text/plain": [
       "Unsupported image format. Supported formats are JPEG and PNG\t file: /Users/nemethbendeguz/Library/Mobile Documents/com~apple~CloudDocs/szakdoga/szakdoga_code/virtual_environment/dataset/keyboard/.DS_Store"
      ]
     },
     "metadata": {},
     "output_type": "display_data"
    },
    {
     "data": {
      "text/html": [
       "<pre>Unexpected JPEG decode failure\t file: /Users/nemethbendeguz/Library/Mobile Documents/com~apple~CloudDocs/szakdoga/szakdoga_code/virtual_environment/dataset/keyboard/image118.jpg</pre>"
      ],
      "text/plain": [
       "Unexpected JPEG decode failure\t file: /Users/nemethbendeguz/Library/Mobile Documents/com~apple~CloudDocs/szakdoga/szakdoga_code/virtual_environment/dataset/keyboard/image118.jpg"
      ]
     },
     "metadata": {},
     "output_type": "display_data"
    },
    {
     "data": {
      "text/html": [
       "<pre>Unexpected JPEG decode failure\t file: /Users/nemethbendeguz/Library/Mobile Documents/com~apple~CloudDocs/szakdoga/szakdoga_code/virtual_environment/dataset/keyboard/image167.jpg</pre>"
      ],
      "text/plain": [
       "Unexpected JPEG decode failure\t file: /Users/nemethbendeguz/Library/Mobile Documents/com~apple~CloudDocs/szakdoga/szakdoga_code/virtual_environment/dataset/keyboard/image167.jpg"
      ]
     },
     "metadata": {},
     "output_type": "display_data"
    },
    {
     "data": {
      "text/html": [
       "<pre>Unexpected JPEG decode failure\t file: /Users/nemethbendeguz/Library/Mobile Documents/com~apple~CloudDocs/szakdoga/szakdoga_code/virtual_environment/dataset/keyboard/image177.jpg</pre>"
      ],
      "text/plain": [
       "Unexpected JPEG decode failure\t file: /Users/nemethbendeguz/Library/Mobile Documents/com~apple~CloudDocs/szakdoga/szakdoga_code/virtual_environment/dataset/keyboard/image177.jpg"
      ]
     },
     "metadata": {},
     "output_type": "display_data"
    },
    {
     "data": {
      "text/html": [
       "<pre>Unsupported image format. Supported formats are JPEG and PNG\t file: /Users/nemethbendeguz/Library/Mobile Documents/com~apple~CloudDocs/szakdoga/szakdoga_code/virtual_environment/dataset/mineral_water/.DS_Store</pre>"
      ],
      "text/plain": [
       "Unsupported image format. Supported formats are JPEG and PNG\t file: /Users/nemethbendeguz/Library/Mobile Documents/com~apple~CloudDocs/szakdoga/szakdoga_code/virtual_environment/dataset/mineral_water/.DS_Store"
      ]
     },
     "metadata": {},
     "output_type": "display_data"
    },
    {
     "data": {
      "text/html": [
       "<pre>Unexpected JPEG decode failure\t file: /Users/nemethbendeguz/Library/Mobile Documents/com~apple~CloudDocs/szakdoga/szakdoga_code/virtual_environment/dataset/mineral_water/image062.jpg</pre>"
      ],
      "text/plain": [
       "Unexpected JPEG decode failure\t file: /Users/nemethbendeguz/Library/Mobile Documents/com~apple~CloudDocs/szakdoga/szakdoga_code/virtual_environment/dataset/mineral_water/image062.jpg"
      ]
     },
     "metadata": {},
     "output_type": "display_data"
    },
    {
     "data": {
      "text/html": [
       "<pre>Unexpected JPEG decode failure\t file: /Users/nemethbendeguz/Library/Mobile Documents/com~apple~CloudDocs/szakdoga/szakdoga_code/virtual_environment/dataset/mineral_water/image081.jpg</pre>"
      ],
      "text/plain": [
       "Unexpected JPEG decode failure\t file: /Users/nemethbendeguz/Library/Mobile Documents/com~apple~CloudDocs/szakdoga/szakdoga_code/virtual_environment/dataset/mineral_water/image081.jpg"
      ]
     },
     "metadata": {},
     "output_type": "display_data"
    },
    {
     "data": {
      "text/html": [
       "<pre>Unexpected JPEG decode failure\t file: /Users/nemethbendeguz/Library/Mobile Documents/com~apple~CloudDocs/szakdoga/szakdoga_code/virtual_environment/dataset/mineral_water/image116.jpg</pre>"
      ],
      "text/plain": [
       "Unexpected JPEG decode failure\t file: /Users/nemethbendeguz/Library/Mobile Documents/com~apple~CloudDocs/szakdoga/szakdoga_code/virtual_environment/dataset/mineral_water/image116.jpg"
      ]
     },
     "metadata": {},
     "output_type": "display_data"
    },
    {
     "data": {
      "text/html": [
       "<pre>Unexpected JPEG decode failure\t file: /Users/nemethbendeguz/Library/Mobile Documents/com~apple~CloudDocs/szakdoga/szakdoga_code/virtual_environment/dataset/mineral_water/image194.jpg</pre>"
      ],
      "text/plain": [
       "Unexpected JPEG decode failure\t file: /Users/nemethbendeguz/Library/Mobile Documents/com~apple~CloudDocs/szakdoga/szakdoga_code/virtual_environment/dataset/mineral_water/image194.jpg"
      ]
     },
     "metadata": {},
     "output_type": "display_data"
    },
    {
     "data": {
      "text/html": [
       "<pre>Unsupported image format. Supported formats are JPEG and PNG\t file: /Users/nemethbendeguz/Library/Mobile Documents/com~apple~CloudDocs/szakdoga/szakdoga_code/virtual_environment/dataset/monitor/.DS_Store</pre>"
      ],
      "text/plain": [
       "Unsupported image format. Supported formats are JPEG and PNG\t file: /Users/nemethbendeguz/Library/Mobile Documents/com~apple~CloudDocs/szakdoga/szakdoga_code/virtual_environment/dataset/monitor/.DS_Store"
      ]
     },
     "metadata": {},
     "output_type": "display_data"
    },
    {
     "data": {
      "text/html": [
       "<pre>Unexpected JPEG decode failure\t file: /Users/nemethbendeguz/Library/Mobile Documents/com~apple~CloudDocs/szakdoga/szakdoga_code/virtual_environment/dataset/monitor/image015.jpg</pre>"
      ],
      "text/plain": [
       "Unexpected JPEG decode failure\t file: /Users/nemethbendeguz/Library/Mobile Documents/com~apple~CloudDocs/szakdoga/szakdoga_code/virtual_environment/dataset/monitor/image015.jpg"
      ]
     },
     "metadata": {},
     "output_type": "display_data"
    },
    {
     "data": {
      "text/html": [
       "<pre>Unexpected JPEG decode failure\t file: /Users/nemethbendeguz/Library/Mobile Documents/com~apple~CloudDocs/szakdoga/szakdoga_code/virtual_environment/dataset/monitor/image126.jpg</pre>"
      ],
      "text/plain": [
       "Unexpected JPEG decode failure\t file: /Users/nemethbendeguz/Library/Mobile Documents/com~apple~CloudDocs/szakdoga/szakdoga_code/virtual_environment/dataset/monitor/image126.jpg"
      ]
     },
     "metadata": {},
     "output_type": "display_data"
    },
    {
     "data": {
      "text/html": [
       "<pre>Invalid PNG file\t file: /Users/nemethbendeguz/Library/Mobile Documents/com~apple~CloudDocs/szakdoga/szakdoga_code/virtual_environment/dataset/monitor/image190.png</pre>"
      ],
      "text/plain": [
       "Invalid PNG file\t file: /Users/nemethbendeguz/Library/Mobile Documents/com~apple~CloudDocs/szakdoga/szakdoga_code/virtual_environment/dataset/monitor/image190.png"
      ]
     },
     "metadata": {},
     "output_type": "display_data"
    },
    {
     "data": {
      "text/html": [
       "<pre>Unsupported image format. Supported formats are JPEG and PNG\t file: /Users/nemethbendeguz/Library/Mobile Documents/com~apple~CloudDocs/szakdoga/szakdoga_code/virtual_environment/dataset/office_chair/.DS_Store</pre>"
      ],
      "text/plain": [
       "Unsupported image format. Supported formats are JPEG and PNG\t file: /Users/nemethbendeguz/Library/Mobile Documents/com~apple~CloudDocs/szakdoga/szakdoga_code/virtual_environment/dataset/office_chair/.DS_Store"
      ]
     },
     "metadata": {},
     "output_type": "display_data"
    },
    {
     "data": {
      "text/html": [
       "<pre>Unexpected JPEG decode failure\t file: /Users/nemethbendeguz/Library/Mobile Documents/com~apple~CloudDocs/szakdoga/szakdoga_code/virtual_environment/dataset/office_chair/image006.jpg</pre>"
      ],
      "text/plain": [
       "Unexpected JPEG decode failure\t file: /Users/nemethbendeguz/Library/Mobile Documents/com~apple~CloudDocs/szakdoga/szakdoga_code/virtual_environment/dataset/office_chair/image006.jpg"
      ]
     },
     "metadata": {},
     "output_type": "display_data"
    },
    {
     "data": {
      "text/html": [
       "<pre>Unexpected JPEG decode failure\t file: /Users/nemethbendeguz/Library/Mobile Documents/com~apple~CloudDocs/szakdoga/szakdoga_code/virtual_environment/dataset/office_chair/image154.jpg</pre>"
      ],
      "text/plain": [
       "Unexpected JPEG decode failure\t file: /Users/nemethbendeguz/Library/Mobile Documents/com~apple~CloudDocs/szakdoga/szakdoga_code/virtual_environment/dataset/office_chair/image154.jpg"
      ]
     },
     "metadata": {},
     "output_type": "display_data"
    },
    {
     "data": {
      "text/html": [
       "<pre>Unexpected JPEG decode failure\t file: /Users/nemethbendeguz/Library/Mobile Documents/com~apple~CloudDocs/szakdoga/szakdoga_code/virtual_environment/dataset/office_chair/image164.jpg</pre>"
      ],
      "text/plain": [
       "Unexpected JPEG decode failure\t file: /Users/nemethbendeguz/Library/Mobile Documents/com~apple~CloudDocs/szakdoga/szakdoga_code/virtual_environment/dataset/office_chair/image164.jpg"
      ]
     },
     "metadata": {},
     "output_type": "display_data"
    },
    {
     "data": {
      "text/html": [
       "<pre>Unsupported image format. Supported formats are JPEG and PNG\t file: /Users/nemethbendeguz/Library/Mobile Documents/com~apple~CloudDocs/szakdoga/szakdoga_code/virtual_environment/dataset/pen/.DS_Store</pre>"
      ],
      "text/plain": [
       "Unsupported image format. Supported formats are JPEG and PNG\t file: /Users/nemethbendeguz/Library/Mobile Documents/com~apple~CloudDocs/szakdoga/szakdoga_code/virtual_environment/dataset/pen/.DS_Store"
      ]
     },
     "metadata": {},
     "output_type": "display_data"
    },
    {
     "data": {
      "text/html": [
       "<pre>Unexpected JPEG decode failure\t file: /Users/nemethbendeguz/Library/Mobile Documents/com~apple~CloudDocs/szakdoga/szakdoga_code/virtual_environment/dataset/pen/image147.jpg</pre>"
      ],
      "text/plain": [
       "Unexpected JPEG decode failure\t file: /Users/nemethbendeguz/Library/Mobile Documents/com~apple~CloudDocs/szakdoga/szakdoga_code/virtual_environment/dataset/pen/image147.jpg"
      ]
     },
     "metadata": {},
     "output_type": "display_data"
    }
   ],
   "source": [
    "# Load images\n",
    "data = tc.image_analysis.load_images('dataset', with_path=True)"
   ]
  },
  {
   "cell_type": "code",
   "execution_count": 4,
   "metadata": {},
   "outputs": [],
   "source": [
    "# Create label column based on folder name\n",
    "data['label'] = data['path'].apply(lambda path: os.path.basename(os.path.dirname(path)))"
   ]
  },
  {
   "cell_type": "code",
   "execution_count": 5,
   "metadata": {},
   "outputs": [],
   "source": [
    "# Save as .sframe\n",
    "data.save('data.sframe')"
   ]
  },
  {
   "cell_type": "code",
   "execution_count": 6,
   "metadata": {},
   "outputs": [
    {
     "data": {
      "text/html": [
       "<pre>Materializing SFrame...</pre>"
      ],
      "text/plain": [
       "Materializing SFrame..."
      ]
     },
     "metadata": {},
     "output_type": "display_data"
    },
    {
     "data": {
      "text/html": [
       "<pre>Done.</pre>"
      ],
      "text/plain": [
       "Done."
      ]
     },
     "metadata": {},
     "output_type": "display_data"
    }
   ],
   "source": [
    "# Explore\n",
    "data.explore()"
   ]
  },
  {
   "cell_type": "code",
   "execution_count": null,
   "metadata": {},
   "outputs": [],
   "source": []
  }
 ],
 "metadata": {
  "kernelspec": {
   "display_name": "Python 3",
   "language": "python",
   "name": "python3"
  },
  "language_info": {
   "codemirror_mode": {
    "name": "ipython",
    "version": 3
   },
   "file_extension": ".py",
   "mimetype": "text/x-python",
   "name": "python",
   "nbconvert_exporter": "python",
   "pygments_lexer": "ipython3",
   "version": "3.6.1"
  }
 },
 "nbformat": 4,
 "nbformat_minor": 2
}
